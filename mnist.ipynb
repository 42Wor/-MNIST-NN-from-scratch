{
 "cells": [
  {
   "cell_type": "markdown",
   "metadata": {},
   "source": [
    "# Simple MNIST NN from scratch\n",
    "\n",
    "In this notebook, I implemented a simple two-layer neural network and trained it on the MNIST digit recognizer dataset. It's meant to be an instructional example, through which you can understand the underlying math of neural networks better.\n",
    "\n",
    "I made explaining all the math and showing my progress as I coded the network: https://m-dev-theta.vercel.app/readme/Neural-network(AI)/MNIST"
   ]
  },
  {
   "cell_type": "code",
   "execution_count": 2,
   "metadata": {
    "_cell_guid": "b1076dfc-b9ad-4769-8c92-a6c4dae69d19",
    "_uuid": "8f2839f25d086af736a60e9eeb907d3b93b6e0e5",
    "execution": {
     "iopub.execute_input": "2024-06-21T15:17:17.734244Z",
     "iopub.status.busy": "2024-06-21T15:17:17.733766Z",
     "iopub.status.idle": "2024-06-21T15:17:22.249907Z",
     "shell.execute_reply": "2024-06-21T15:17:22.248731Z",
     "shell.execute_reply.started": "2024-06-21T15:17:17.734199Z"
    },
    "trusted": true
   },
   "outputs": [],
   "source": [
    "import numpy as np\n",
    "import pandas as pd\n",
    "from matplotlib import pyplot as plt\n",
    "\n",
    "data = pd.read_csv('mnist_train.csv')"
   ]
  },
  {
   "cell_type": "code",
   "execution_count": 3,
   "metadata": {
    "trusted": true
   },
   "outputs": [
    {
     "data": {
      "text/html": [
       "<div>\n",
       "<style scoped>\n",
       "    .dataframe tbody tr th:only-of-type {\n",
       "        vertical-align: middle;\n",
       "    }\n",
       "\n",
       "    .dataframe tbody tr th {\n",
       "        vertical-align: top;\n",
       "    }\n",
       "\n",
       "    .dataframe thead th {\n",
       "        text-align: right;\n",
       "    }\n",
       "</style>\n",
       "<table border=\"1\" class=\"dataframe\">\n",
       "  <thead>\n",
       "    <tr style=\"text-align: right;\">\n",
       "      <th></th>\n",
       "      <th>label</th>\n",
       "      <th>1x1</th>\n",
       "      <th>1x2</th>\n",
       "      <th>1x3</th>\n",
       "      <th>1x4</th>\n",
       "      <th>1x5</th>\n",
       "      <th>1x6</th>\n",
       "      <th>1x7</th>\n",
       "      <th>1x8</th>\n",
       "      <th>1x9</th>\n",
       "      <th>...</th>\n",
       "      <th>28x19</th>\n",
       "      <th>28x20</th>\n",
       "      <th>28x21</th>\n",
       "      <th>28x22</th>\n",
       "      <th>28x23</th>\n",
       "      <th>28x24</th>\n",
       "      <th>28x25</th>\n",
       "      <th>28x26</th>\n",
       "      <th>28x27</th>\n",
       "      <th>28x28</th>\n",
       "    </tr>\n",
       "  </thead>\n",
       "  <tbody>\n",
       "    <tr>\n",
       "      <th>0</th>\n",
       "      <td>5</td>\n",
       "      <td>0</td>\n",
       "      <td>0</td>\n",
       "      <td>0</td>\n",
       "      <td>0</td>\n",
       "      <td>0</td>\n",
       "      <td>0</td>\n",
       "      <td>0</td>\n",
       "      <td>0</td>\n",
       "      <td>0</td>\n",
       "      <td>...</td>\n",
       "      <td>0</td>\n",
       "      <td>0</td>\n",
       "      <td>0</td>\n",
       "      <td>0</td>\n",
       "      <td>0</td>\n",
       "      <td>0</td>\n",
       "      <td>0</td>\n",
       "      <td>0</td>\n",
       "      <td>0</td>\n",
       "      <td>0</td>\n",
       "    </tr>\n",
       "    <tr>\n",
       "      <th>1</th>\n",
       "      <td>0</td>\n",
       "      <td>0</td>\n",
       "      <td>0</td>\n",
       "      <td>0</td>\n",
       "      <td>0</td>\n",
       "      <td>0</td>\n",
       "      <td>0</td>\n",
       "      <td>0</td>\n",
       "      <td>0</td>\n",
       "      <td>0</td>\n",
       "      <td>...</td>\n",
       "      <td>0</td>\n",
       "      <td>0</td>\n",
       "      <td>0</td>\n",
       "      <td>0</td>\n",
       "      <td>0</td>\n",
       "      <td>0</td>\n",
       "      <td>0</td>\n",
       "      <td>0</td>\n",
       "      <td>0</td>\n",
       "      <td>0</td>\n",
       "    </tr>\n",
       "    <tr>\n",
       "      <th>2</th>\n",
       "      <td>4</td>\n",
       "      <td>0</td>\n",
       "      <td>0</td>\n",
       "      <td>0</td>\n",
       "      <td>0</td>\n",
       "      <td>0</td>\n",
       "      <td>0</td>\n",
       "      <td>0</td>\n",
       "      <td>0</td>\n",
       "      <td>0</td>\n",
       "      <td>...</td>\n",
       "      <td>0</td>\n",
       "      <td>0</td>\n",
       "      <td>0</td>\n",
       "      <td>0</td>\n",
       "      <td>0</td>\n",
       "      <td>0</td>\n",
       "      <td>0</td>\n",
       "      <td>0</td>\n",
       "      <td>0</td>\n",
       "      <td>0</td>\n",
       "    </tr>\n",
       "    <tr>\n",
       "      <th>3</th>\n",
       "      <td>1</td>\n",
       "      <td>0</td>\n",
       "      <td>0</td>\n",
       "      <td>0</td>\n",
       "      <td>0</td>\n",
       "      <td>0</td>\n",
       "      <td>0</td>\n",
       "      <td>0</td>\n",
       "      <td>0</td>\n",
       "      <td>0</td>\n",
       "      <td>...</td>\n",
       "      <td>0</td>\n",
       "      <td>0</td>\n",
       "      <td>0</td>\n",
       "      <td>0</td>\n",
       "      <td>0</td>\n",
       "      <td>0</td>\n",
       "      <td>0</td>\n",
       "      <td>0</td>\n",
       "      <td>0</td>\n",
       "      <td>0</td>\n",
       "    </tr>\n",
       "    <tr>\n",
       "      <th>4</th>\n",
       "      <td>9</td>\n",
       "      <td>0</td>\n",
       "      <td>0</td>\n",
       "      <td>0</td>\n",
       "      <td>0</td>\n",
       "      <td>0</td>\n",
       "      <td>0</td>\n",
       "      <td>0</td>\n",
       "      <td>0</td>\n",
       "      <td>0</td>\n",
       "      <td>...</td>\n",
       "      <td>0</td>\n",
       "      <td>0</td>\n",
       "      <td>0</td>\n",
       "      <td>0</td>\n",
       "      <td>0</td>\n",
       "      <td>0</td>\n",
       "      <td>0</td>\n",
       "      <td>0</td>\n",
       "      <td>0</td>\n",
       "      <td>0</td>\n",
       "    </tr>\n",
       "  </tbody>\n",
       "</table>\n",
       "<p>5 rows × 785 columns</p>\n",
       "</div>"
      ],
      "text/plain": [
       "   label  1x1  1x2  1x3  1x4  1x5  1x6  1x7  1x8  1x9  ...  28x19  28x20  \\\n",
       "0      5    0    0    0    0    0    0    0    0    0  ...      0      0   \n",
       "1      0    0    0    0    0    0    0    0    0    0  ...      0      0   \n",
       "2      4    0    0    0    0    0    0    0    0    0  ...      0      0   \n",
       "3      1    0    0    0    0    0    0    0    0    0  ...      0      0   \n",
       "4      9    0    0    0    0    0    0    0    0    0  ...      0      0   \n",
       "\n",
       "   28x21  28x22  28x23  28x24  28x25  28x26  28x27  28x28  \n",
       "0      0      0      0      0      0      0      0      0  \n",
       "1      0      0      0      0      0      0      0      0  \n",
       "2      0      0      0      0      0      0      0      0  \n",
       "3      0      0      0      0      0      0      0      0  \n",
       "4      0      0      0      0      0      0      0      0  \n",
       "\n",
       "[5 rows x 785 columns]"
      ]
     },
     "execution_count": 3,
     "metadata": {},
     "output_type": "execute_result"
    }
   ],
   "source": [
    "data.head()"
   ]
  },
  {
   "cell_type": "code",
   "execution_count": 6,
   "metadata": {
    "execution": {
     "iopub.execute_input": "2024-06-21T15:17:30.957531Z",
     "iopub.status.busy": "2024-06-21T15:17:30.957004Z",
     "iopub.status.idle": "2024-06-21T15:17:31.893753Z",
     "shell.execute_reply": "2024-06-21T15:17:31.891865Z",
     "shell.execute_reply.started": "2024-06-21T15:17:30.957480Z"
    },
    "trusted": true
   },
   "outputs": [
    {
     "name": "stdout",
     "output_type": "stream",
     "text": [
      "[[2 0 0 ... 0 0 0]\n",
      " [5 0 0 ... 0 0 0]\n",
      " [8 0 0 ... 0 0 0]\n",
      " ...\n",
      " [3 0 0 ... 0 0 0]\n",
      " [9 0 0 ... 0 0 0]\n",
      " [7 0 0 ... 0 0 0]]\n"
     ]
    }
   ],
   "source": [
    "\n",
    "\n",
    "data = np.array(data)\n",
    "print(data)\n",
    "m, n = data.shape\n",
    "np.random.shuffle(data) # shuffle before splitting into dev and training sets\n",
    "\n",
    "data_dev = data[0:1000].T\n",
    "Y_dev = data_dev[0]\n",
    "X_dev = data_dev[1:n]\n",
    "X_dev = X_dev / 255.\n",
    "\n",
    "data_train = data[1000:m].T\n",
    "Y_train = data_train[0]\n",
    "X_train = data_train[1:n]\n",
    "X_train = X_train / 255.\n",
    "_,m_train = X_train.shape "
   ]
  },
  {
   "cell_type": "code",
   "execution_count": 7,
   "metadata": {},
   "outputs": [
    {
     "data": {
      "text/html": [
       "<div>\n",
       "<style scoped>\n",
       "    .dataframe tbody tr th:only-of-type {\n",
       "        vertical-align: middle;\n",
       "    }\n",
       "\n",
       "    .dataframe tbody tr th {\n",
       "        vertical-align: top;\n",
       "    }\n",
       "\n",
       "    .dataframe thead th {\n",
       "        text-align: right;\n",
       "    }\n",
       "</style>\n",
       "<table border=\"1\" class=\"dataframe\">\n",
       "  <thead>\n",
       "    <tr style=\"text-align: right;\">\n",
       "      <th></th>\n",
       "      <th>label</th>\n",
       "      <th>1x1</th>\n",
       "      <th>1x2</th>\n",
       "      <th>1x3</th>\n",
       "      <th>1x4</th>\n",
       "      <th>1x5</th>\n",
       "      <th>1x6</th>\n",
       "      <th>1x7</th>\n",
       "      <th>1x8</th>\n",
       "      <th>1x9</th>\n",
       "      <th>...</th>\n",
       "      <th>28x19</th>\n",
       "      <th>28x20</th>\n",
       "      <th>28x21</th>\n",
       "      <th>28x22</th>\n",
       "      <th>28x23</th>\n",
       "      <th>28x24</th>\n",
       "      <th>28x25</th>\n",
       "      <th>28x26</th>\n",
       "      <th>28x27</th>\n",
       "      <th>28x28</th>\n",
       "    </tr>\n",
       "  </thead>\n",
       "  <tbody>\n",
       "    <tr>\n",
       "      <th>0</th>\n",
       "      <td>7</td>\n",
       "      <td>0</td>\n",
       "      <td>0</td>\n",
       "      <td>0</td>\n",
       "      <td>0</td>\n",
       "      <td>0</td>\n",
       "      <td>0</td>\n",
       "      <td>0</td>\n",
       "      <td>0</td>\n",
       "      <td>0</td>\n",
       "      <td>...</td>\n",
       "      <td>0</td>\n",
       "      <td>0</td>\n",
       "      <td>0</td>\n",
       "      <td>0</td>\n",
       "      <td>0</td>\n",
       "      <td>0</td>\n",
       "      <td>0</td>\n",
       "      <td>0</td>\n",
       "      <td>0</td>\n",
       "      <td>0</td>\n",
       "    </tr>\n",
       "    <tr>\n",
       "      <th>1</th>\n",
       "      <td>2</td>\n",
       "      <td>0</td>\n",
       "      <td>0</td>\n",
       "      <td>0</td>\n",
       "      <td>0</td>\n",
       "      <td>0</td>\n",
       "      <td>0</td>\n",
       "      <td>0</td>\n",
       "      <td>0</td>\n",
       "      <td>0</td>\n",
       "      <td>...</td>\n",
       "      <td>0</td>\n",
       "      <td>0</td>\n",
       "      <td>0</td>\n",
       "      <td>0</td>\n",
       "      <td>0</td>\n",
       "      <td>0</td>\n",
       "      <td>0</td>\n",
       "      <td>0</td>\n",
       "      <td>0</td>\n",
       "      <td>0</td>\n",
       "    </tr>\n",
       "    <tr>\n",
       "      <th>2</th>\n",
       "      <td>1</td>\n",
       "      <td>0</td>\n",
       "      <td>0</td>\n",
       "      <td>0</td>\n",
       "      <td>0</td>\n",
       "      <td>0</td>\n",
       "      <td>0</td>\n",
       "      <td>0</td>\n",
       "      <td>0</td>\n",
       "      <td>0</td>\n",
       "      <td>...</td>\n",
       "      <td>0</td>\n",
       "      <td>0</td>\n",
       "      <td>0</td>\n",
       "      <td>0</td>\n",
       "      <td>0</td>\n",
       "      <td>0</td>\n",
       "      <td>0</td>\n",
       "      <td>0</td>\n",
       "      <td>0</td>\n",
       "      <td>0</td>\n",
       "    </tr>\n",
       "    <tr>\n",
       "      <th>3</th>\n",
       "      <td>0</td>\n",
       "      <td>0</td>\n",
       "      <td>0</td>\n",
       "      <td>0</td>\n",
       "      <td>0</td>\n",
       "      <td>0</td>\n",
       "      <td>0</td>\n",
       "      <td>0</td>\n",
       "      <td>0</td>\n",
       "      <td>0</td>\n",
       "      <td>...</td>\n",
       "      <td>0</td>\n",
       "      <td>0</td>\n",
       "      <td>0</td>\n",
       "      <td>0</td>\n",
       "      <td>0</td>\n",
       "      <td>0</td>\n",
       "      <td>0</td>\n",
       "      <td>0</td>\n",
       "      <td>0</td>\n",
       "      <td>0</td>\n",
       "    </tr>\n",
       "    <tr>\n",
       "      <th>4</th>\n",
       "      <td>4</td>\n",
       "      <td>0</td>\n",
       "      <td>0</td>\n",
       "      <td>0</td>\n",
       "      <td>0</td>\n",
       "      <td>0</td>\n",
       "      <td>0</td>\n",
       "      <td>0</td>\n",
       "      <td>0</td>\n",
       "      <td>0</td>\n",
       "      <td>...</td>\n",
       "      <td>0</td>\n",
       "      <td>0</td>\n",
       "      <td>0</td>\n",
       "      <td>0</td>\n",
       "      <td>0</td>\n",
       "      <td>0</td>\n",
       "      <td>0</td>\n",
       "      <td>0</td>\n",
       "      <td>0</td>\n",
       "      <td>0</td>\n",
       "    </tr>\n",
       "  </tbody>\n",
       "</table>\n",
       "<p>5 rows × 785 columns</p>\n",
       "</div>"
      ],
      "text/plain": [
       "   label  1x1  1x2  1x3  1x4  1x5  1x6  1x7  1x8  1x9  ...  28x19  28x20  \\\n",
       "0      7    0    0    0    0    0    0    0    0    0  ...      0      0   \n",
       "1      2    0    0    0    0    0    0    0    0    0  ...      0      0   \n",
       "2      1    0    0    0    0    0    0    0    0    0  ...      0      0   \n",
       "3      0    0    0    0    0    0    0    0    0    0  ...      0      0   \n",
       "4      4    0    0    0    0    0    0    0    0    0  ...      0      0   \n",
       "\n",
       "   28x21  28x22  28x23  28x24  28x25  28x26  28x27  28x28  \n",
       "0      0      0      0      0      0      0      0      0  \n",
       "1      0      0      0      0      0      0      0      0  \n",
       "2      0      0      0      0      0      0      0      0  \n",
       "3      0      0      0      0      0      0      0      0  \n",
       "4      0      0      0      0      0      0      0      0  \n",
       "\n",
       "[5 rows x 785 columns]"
      ]
     },
     "execution_count": 7,
     "metadata": {},
     "output_type": "execute_result"
    }
   ],
   "source": [
    "data1 = pd.read_csv('mnist_test.csv')\n",
    "data1.head()"
   ]
  },
  {
   "cell_type": "code",
   "execution_count": 8,
   "metadata": {},
   "outputs": [
    {
     "name": "stdout",
     "output_type": "stream",
     "text": [
      "[[7 0 0 ... 0 0 0]\n",
      " [2 0 0 ... 0 0 0]\n",
      " [1 0 0 ... 0 0 0]\n",
      " ...\n",
      " [4 0 0 ... 0 0 0]\n",
      " [5 0 0 ... 0 0 0]\n",
      " [6 0 0 ... 0 0 0]]\n"
     ]
    }
   ],
   "source": [
    "data1 = np.array(data1)\n",
    "print(data1)\n",
    "m, n = data1.shape\n",
    "np.random.shuffle(data1) # shuffle before splitting into dev and training sets\n",
    "\n",
    "data_dev1 = data1[0:1000].T\n",
    "Y_dev1 = data_dev1[0]\n",
    "X_dev1 = data_dev1[1:n]\n",
    "X_dev1 = X_dev1 / 255.\n",
    "\n",
    "data_train1 = data1[1000:m].T\n",
    "Y_train1 = data_train1[0]\n",
    "X_train1 = data_train1[1:n]\n",
    "X_train1 = X_train1 / 255.\n",
    "_,m_train1 = X_train1.shape "
   ]
  },
  {
   "cell_type": "code",
   "execution_count": 9,
   "metadata": {
    "execution": {
     "iopub.execute_input": "2024-06-21T15:45:52.189209Z",
     "iopub.status.busy": "2024-06-21T15:45:52.188720Z",
     "iopub.status.idle": "2024-06-21T15:45:52.197147Z",
     "shell.execute_reply": "2024-06-21T15:45:52.196207Z",
     "shell.execute_reply.started": "2024-06-21T15:45:52.189165Z"
    },
    "trusted": true
   },
   "outputs": [
    {
     "data": {
      "text/plain": [
       "array([7, 7, 5, ..., 0, 9, 0])"
      ]
     },
     "execution_count": 9,
     "metadata": {},
     "output_type": "execute_result"
    }
   ],
   "source": [
    "Y_train\n",
    "Y_train1"
   ]
  },
  {
   "cell_type": "markdown",
   "metadata": {},
   "source": [
    "Our NN will have a simple two-layer architecture. Input layer $a^{[0]}$ will have 784 units corresponding to the 784 pixels in each 28x28 input image. A hidden layer $a^{[1]}$ will have 10 units with ReLU activation, and finally our output layer $a^{[2]}$ will have 10 units corresponding to the ten digit classes with softmax activation.\n",
    "\n",
    "**Forward propagation**\n",
    "\n",
    "$$Z^{[1]} = W^{[1]} X + b^{[1]}$$\n",
    "$$A^{[1]} = g_{\\text{ReLU}}(Z^{[1]}))$$\n",
    "$$Z^{[2]} = W^{[2]} A^{[1]} + b^{[2]}$$\n",
    "$$A^{[2]} = g_{\\text{softmax}}(Z^{[2]})$$\n",
    "\n",
    "**Backward propagation**\n",
    "\n",
    "$$dZ^{[2]} = A^{[2]} - Y$$\n",
    "$$dW^{[2]} = \\frac{1}{m} dZ^{[2]} A^{[1]T}$$\n",
    "$$dB^{[2]} = \\frac{1}{m} \\Sigma {dZ^{[2]}}$$\n",
    "$$dZ^{[1]} = W^{[2]T} dZ^{[2]} .* g^{[1]\\prime} (z^{[1]})$$\n",
    "$$dW^{[1]} = \\frac{1}{m} dZ^{[1]} A^{[0]T}$$\n",
    "$$dB^{[1]} = \\frac{1}{m} \\Sigma {dZ^{[1]}}$$\n",
    "\n",
    "**Parameter updates**\n",
    "\n",
    "$$W^{[2]} := W^{[2]} - \\alpha dW^{[2]}$$\n",
    "$$b^{[2]} := b^{[2]} - \\alpha db^{[2]}$$\n",
    "$$W^{[1]} := W^{[1]} - \\alpha dW^{[1]}$$\n",
    "$$b^{[1]} := b^{[1]} - \\alpha db^{[1]}$$\n",
    "\n",
    "**Vars and shapes**\n",
    "\n",
    "Forward prop\n",
    "\n",
    "- $A^{[0]} = X$: 784 x m\n",
    "- $Z^{[1]} \\sim A^{[1]}$: 10 x m\n",
    "- $W^{[1]}$: 10 x 784 (as $W^{[1]} A^{[0]} \\sim Z^{[1]}$)\n",
    "- $B^{[1]}$: 10 x 1\n",
    "- $Z^{[2]} \\sim A^{[2]}$: 10 x m\n",
    "- $W^{[1]}$: 10 x 10 (as $W^{[2]} A^{[1]} \\sim Z^{[2]}$)\n",
    "- $B^{[2]}$: 10 x 1\n",
    "\n",
    "Backprop\n",
    "\n",
    "- $dZ^{[2]}$: 10 x m ($~A^{[2]}$)\n",
    "- $dW^{[2]}$: 10 x 10\n",
    "- $dB^{[2]}$: 10 x 1\n",
    "- $dZ^{[1]}$: 10 x m ($~A^{[1]}$)\n",
    "- $dW^{[1]}$: 10 x 10\n",
    "- $dB^{[1]}$: 10 x 1"
   ]
  },
  {
   "cell_type": "code",
   "execution_count": 10,
   "metadata": {
    "execution": {
     "iopub.execute_input": "2024-06-21T15:46:07.056557Z",
     "iopub.status.busy": "2024-06-21T15:46:07.056132Z",
     "iopub.status.idle": "2024-06-21T15:46:07.079804Z",
     "shell.execute_reply": "2024-06-21T15:46:07.078459Z",
     "shell.execute_reply.started": "2024-06-21T15:46:07.056521Z"
    },
    "trusted": true
   },
   "outputs": [],
   "source": [
    "def init_params():\n",
    "    W1 = np.random.rand(10, 784) - 0.5\n",
    "    b1 = np.random.rand(10, 1) - 0.5\n",
    "    W2 = np.random.rand(10, 10) - 0.5\n",
    "    b2 = np.random.rand(10, 1) - 0.5\n",
    "    return W1, b1, W2, b2\n",
    "\n",
    "def ReLU(Z):\n",
    "    return np.maximum(Z, 0)\n",
    "\n",
    "def softmax(Z):\n",
    "    A = np.exp(Z) / sum(np.exp(Z))\n",
    "    return A\n",
    "    \n",
    "def forward_prop(W1, b1, W2, b2, X):\n",
    "    Z1 = W1.dot(X) + b1\n",
    "    A1 = ReLU(Z1)\n",
    "    Z2 = W2.dot(A1) + b2\n",
    "    A2 = softmax(Z2)\n",
    "    return Z1, A1, Z2, A2\n",
    "\n",
    "def ReLU_deriv(Z):\n",
    "    return Z > 0\n",
    "\n",
    "def one_hot(Y):\n",
    "    one_hot_Y = np.zeros((Y.size, Y.max() + 1))\n",
    "    one_hot_Y[np.arange(Y.size), Y] = 1\n",
    "    one_hot_Y = one_hot_Y.T\n",
    "    return one_hot_Y\n",
    "\n",
    "def backward_prop(Z1, A1, Z2, A2, W1, W2, X, Y):\n",
    "    one_hot_Y = one_hot(Y)\n",
    "    dZ2 = A2 - one_hot_Y\n",
    "    dW2 = 1 / m * dZ2.dot(A1.T)\n",
    "    db2 = 1 / m * np.sum(dZ2)\n",
    "    dZ1 = W2.T.dot(dZ2) * ReLU_deriv(Z1)\n",
    "    dW1 = 1 / m * dZ1.dot(X.T)\n",
    "    db1 = 1 / m * np.sum(dZ1)\n",
    "    return dW1, db1, dW2, db2\n",
    "\n",
    "def update_params(W1, b1, W2, b2, dW1, db1, dW2, db2, alpha):\n",
    "    W1 = W1 - alpha * dW1\n",
    "    b1 = b1 - alpha * db1    \n",
    "    W2 = W2 - alpha * dW2  \n",
    "    b2 = b2 - alpha * db2    \n",
    "    return W1, b1, W2, b2"
   ]
  },
  {
   "cell_type": "code",
   "execution_count": 11,
   "metadata": {
    "execution": {
     "iopub.execute_input": "2024-06-21T15:46:10.647103Z",
     "iopub.status.busy": "2024-06-21T15:46:10.646629Z",
     "iopub.status.idle": "2024-06-21T15:46:10.660158Z",
     "shell.execute_reply": "2024-06-21T15:46:10.659107Z",
     "shell.execute_reply.started": "2024-06-21T15:46:10.647040Z"
    },
    "trusted": true
   },
   "outputs": [],
   "source": [
    "def get_predictions(A2):\n",
    "    return np.argmax(A2, 0)\n",
    "\n",
    "def get_accuracy(predictions, Y):\n",
    "    print(predictions, Y)\n",
    "    return np.sum(predictions == Y) / Y.size\n",
    "\n",
    "def gradient_descent(X, Y, alpha, iterations):\n",
    "    W1, b1, W2, b2 = init_params()\n",
    "    for i in range(iterations):\n",
    "        Z1, A1, Z2, A2 = forward_prop(W1, b1, W2, b2, X)\n",
    "        dW1, db1, dW2, db2 = backward_prop(Z1, A1, Z2, A2, W1, W2, X, Y)\n",
    "        W1, b1, W2, b2 = update_params(W1, b1, W2, b2, dW1, db1, dW2, db2, alpha)\n",
    "        if i % 10 == 0:\n",
    "            print(\"Iteration: \", i)\n",
    "            predictions = get_predictions(A2)\n",
    "            print(get_accuracy(predictions, Y))\n",
    "    return W1, b1, W2, b2"
   ]
  },
  {
   "cell_type": "code",
   "execution_count": 15,
   "metadata": {
    "execution": {
     "iopub.execute_input": "2024-06-21T15:46:12.648026Z",
     "iopub.status.busy": "2024-06-21T15:46:12.647587Z",
     "iopub.status.idle": "2024-06-21T15:46:57.877518Z",
     "shell.execute_reply": "2024-06-21T15:46:57.876529Z",
     "shell.execute_reply.started": "2024-06-21T15:46:12.647983Z"
    },
    "trusted": true
   },
   "outputs": [
    {
     "name": "stdout",
     "output_type": "stream",
     "text": [
      "Iteration:  0\n",
      "[5 6 8 ... 8 7 8] [1 2 3 ... 4 8 8]\n",
      "0.09157627118644068\n",
      "Iteration:  10\n",
      "[1 4 0 ... 7 9 1] [1 2 3 ... 4 8 8]\n",
      "0.32849152542372884\n",
      "Iteration:  20\n",
      "[1 4 3 ... 4 3 1] [1 2 3 ... 4 8 8]\n",
      "0.563\n",
      "Iteration:  30\n",
      "[1 6 5 ... 4 3 2] [1 2 3 ... 4 8 8]\n",
      "0.6604576271186441\n",
      "Iteration:  40\n",
      "[1 6 3 ... 9 3 1] [1 2 3 ... 4 8 8]\n",
      "0.6578135593220339\n",
      "Iteration:  50\n",
      "[1 6 3 ... 9 3 8] [1 2 3 ... 4 8 8]\n",
      "0.7327288135593221\n",
      "Iteration:  60\n",
      "[1 6 3 ... 9 3 8] [1 2 3 ... 4 8 8]\n",
      "0.7649661016949153\n",
      "Iteration:  70\n",
      "[1 6 3 ... 9 3 8] [1 2 3 ... 4 8 8]\n",
      "0.7897966101694915\n",
      "Iteration:  80\n",
      "[1 6 3 ... 4 3 8] [1 2 3 ... 4 8 8]\n",
      "0.8029322033898305\n",
      "Iteration:  90\n",
      "[1 6 5 ... 4 8 8] [1 2 3 ... 4 8 8]\n",
      "0.816864406779661\n",
      "Iteration:  100\n",
      "[1 6 5 ... 4 8 8] [1 2 3 ... 4 8 8]\n",
      "0.8325762711864407\n",
      "Iteration:  110\n",
      "[1 6 5 ... 4 8 8] [1 2 3 ... 4 8 8]\n",
      "0.8378135593220339\n",
      "Iteration:  120\n",
      "[1 6 5 ... 4 8 8] [1 2 3 ... 4 8 8]\n",
      "0.8452881355932204\n",
      "Iteration:  130\n",
      "[1 6 5 ... 4 8 8] [1 2 3 ... 4 8 8]\n",
      "0.8481864406779661\n",
      "Iteration:  140\n",
      "[1 6 5 ... 4 8 8] [1 2 3 ... 4 8 8]\n",
      "0.8541186440677966\n",
      "Iteration:  150\n",
      "[1 6 5 ... 4 8 8] [1 2 3 ... 4 8 8]\n",
      "0.8559830508474576\n",
      "Iteration:  160\n",
      "[1 6 5 ... 4 8 8] [1 2 3 ... 4 8 8]\n",
      "0.8611016949152542\n",
      "Iteration:  170\n",
      "[1 6 5 ... 4 8 8] [1 2 3 ... 4 8 8]\n",
      "0.8619322033898305\n",
      "Iteration:  180\n",
      "[1 6 5 ... 4 8 8] [1 2 3 ... 4 8 8]\n",
      "0.8638983050847457\n",
      "Iteration:  190\n",
      "[1 6 5 ... 4 8 8] [1 2 3 ... 4 8 8]\n",
      "0.8677288135593221\n",
      "Iteration:  200\n",
      "[1 6 5 ... 4 8 8] [1 2 3 ... 4 8 8]\n",
      "0.8685423728813559\n",
      "Iteration:  210\n",
      "[1 6 5 ... 4 8 8] [1 2 3 ... 4 8 8]\n",
      "0.8722542372881356\n",
      "Iteration:  220\n",
      "[1 6 5 ... 4 8 8] [1 2 3 ... 4 8 8]\n",
      "0.8753728813559322\n",
      "Iteration:  230\n",
      "[1 6 5 ... 4 8 8] [1 2 3 ... 4 8 8]\n",
      "0.8746271186440678\n",
      "Iteration:  240\n",
      "[1 6 5 ... 4 8 8] [1 2 3 ... 4 8 8]\n",
      "0.8789491525423729\n",
      "Iteration:  250\n",
      "[1 6 5 ... 4 8 8] [1 2 3 ... 4 8 8]\n",
      "0.8804576271186441\n",
      "Iteration:  260\n",
      "[1 6 5 ... 4 8 8] [1 2 3 ... 4 8 8]\n",
      "0.8782881355932204\n",
      "Iteration:  270\n",
      "[1 6 5 ... 4 8 8] [1 2 3 ... 4 8 8]\n",
      "0.8830677966101695\n",
      "Iteration:  280\n",
      "[1 6 5 ... 4 8 8] [1 2 3 ... 4 8 8]\n",
      "0.8850677966101695\n",
      "Iteration:  290\n",
      "[1 6 5 ... 4 8 8] [1 2 3 ... 4 8 8]\n",
      "0.8812033898305085\n",
      "Iteration:  300\n",
      "[1 6 5 ... 4 8 8] [1 2 3 ... 4 8 8]\n",
      "0.8867966101694915\n",
      "Iteration:  310\n",
      "[1 6 5 ... 4 8 8] [1 2 3 ... 4 8 8]\n",
      "0.8896101694915254\n",
      "Iteration:  320\n",
      "[1 6 5 ... 4 8 8] [1 2 3 ... 4 8 8]\n",
      "0.885135593220339\n",
      "Iteration:  330\n",
      "[1 6 5 ... 4 8 8] [1 2 3 ... 4 8 8]\n",
      "0.887593220338983\n",
      "Iteration:  340\n",
      "[1 6 5 ... 4 8 8] [1 2 3 ... 4 8 8]\n",
      "0.8943728813559322\n",
      "Iteration:  350\n",
      "[1 6 5 ... 4 8 8] [1 2 3 ... 4 8 8]\n",
      "0.892542372881356\n",
      "Iteration:  360\n",
      "[1 8 5 ... 4 8 8] [1 2 3 ... 4 8 8]\n",
      "0.8823389830508475\n",
      "Iteration:  370\n",
      "[1 6 5 ... 4 8 8] [1 2 3 ... 4 8 8]\n",
      "0.8980508474576271\n",
      "Iteration:  380\n",
      "[1 6 5 ... 4 8 8] [1 2 3 ... 4 8 8]\n",
      "0.8996101694915254\n",
      "Iteration:  390\n",
      "[1 6 5 ... 4 8 8] [1 2 3 ... 4 8 8]\n",
      "0.8936949152542373\n",
      "Iteration:  400\n",
      "[1 8 5 ... 4 8 8] [1 2 3 ... 4 8 8]\n",
      "0.8884745762711864\n",
      "Iteration:  410\n",
      "[1 6 5 ... 4 8 8] [1 2 3 ... 4 8 8]\n",
      "0.9025762711864407\n",
      "Iteration:  420\n",
      "[1 6 5 ... 4 8 8] [1 2 3 ... 4 8 8]\n",
      "0.9029491525423728\n",
      "Iteration:  430\n",
      "[1 6 5 ... 4 8 8] [1 2 3 ... 4 8 8]\n",
      "0.9032203389830509\n",
      "Iteration:  440\n",
      "[1 6 5 ... 4 8 8] [1 2 3 ... 4 8 8]\n",
      "0.8883050847457628\n",
      "Iteration:  450\n",
      "[1 1 5 ... 4 8 8] [1 2 3 ... 4 8 8]\n",
      "0.903135593220339\n",
      "Iteration:  460\n",
      "[1 1 5 ... 4 8 8] [1 2 3 ... 4 8 8]\n",
      "0.9050508474576271\n",
      "Iteration:  470\n",
      "[1 1 5 ... 4 8 8] [1 2 3 ... 4 8 8]\n",
      "0.9063220338983051\n",
      "Iteration:  480\n",
      "[1 6 5 ... 4 8 8] [1 2 3 ... 4 8 8]\n",
      "0.9070169491525424\n",
      "Iteration:  490\n",
      "[1 6 5 ... 4 8 8] [1 2 3 ... 4 8 8]\n",
      "0.9076271186440678\n"
     ]
    }
   ],
   "source": [
    "W1, b1, W2, b2 = gradient_descent(X_train, Y_train, 0.10, 500)"
   ]
  },
  {
   "cell_type": "markdown",
   "metadata": {},
   "source": [
    "~85% accuracy on training set."
   ]
  },
  {
   "cell_type": "code",
   "execution_count": 16,
   "metadata": {
    "execution": {
     "iopub.execute_input": "2024-06-21T15:47:47.641736Z",
     "iopub.status.busy": "2024-06-21T15:47:47.641261Z",
     "iopub.status.idle": "2024-06-21T15:47:47.653269Z",
     "shell.execute_reply": "2024-06-21T15:47:47.652142Z",
     "shell.execute_reply.started": "2024-06-21T15:47:47.641675Z"
    },
    "trusted": true
   },
   "outputs": [],
   "source": [
    "def make_predictions(X, W1, b1, W2, b2):\n",
    "    _, _, _, A2 = forward_prop(W1, b1, W2, b2, X)\n",
    "    predictions = get_predictions(A2)\n",
    "    return predictions\n",
    "\n",
    "def test_prediction(index, W1, b1, W2, b2):\n",
    "    current_image = X_train1[:, index, None]\n",
    "    prediction = make_predictions(X_train1[:, index, None], W1, b1, W2, b2)\n",
    "    label = Y_train[index]\n",
    "    print(\"Prediction: \", prediction)\n",
    "    print(\"Label: \", label)\n",
    "    \n",
    "    current_image = current_image.reshape((28, 28)) * 255\n",
    "    plt.gray()\n",
    "    plt.imshow(current_image, interpolation='nearest')\n",
    "    plt.show()"
   ]
  },
  {
   "cell_type": "markdown",
   "metadata": {},
   "source": [
    "Let's look at a couple of examples:"
   ]
  },
  {
   "cell_type": "code",
   "execution_count": 17,
   "metadata": {
    "execution": {
     "iopub.execute_input": "2024-06-21T15:47:52.641123Z",
     "iopub.status.busy": "2024-06-21T15:47:52.640738Z",
     "iopub.status.idle": "2024-06-21T15:47:52.660374Z",
     "shell.execute_reply": "2024-06-21T15:47:52.659253Z",
     "shell.execute_reply.started": "2024-06-21T15:47:52.641090Z"
    },
    "trusted": true
   },
   "outputs": [
    {
     "name": "stdout",
     "output_type": "stream",
     "text": [
      "[5 6 9 7 9 0 4 5 5 6 1 7 2 2 9 9 8 2 3 0 8 9 7 3 9 4 7 0 4 4 4 1 5 0 9 7 7\n",
      " 5 4 0 0 0 0 9 4 1 2 1 8 7 7 4 4 7 5 9 1 4 3 8 4 0 6 0 9 1 8 7 0 1 3 0 1 8\n",
      " 3 1 1 9 6 9 2 7 7 1 6 5 3 6 6 6 6 2 3 9 2 1 3 0 3 8 7 7 3 8 0 1 1 8 5 7 6\n",
      " 9 4 1 0 7 4 1 0 1 4 5 1 1 9 8 1 4 9 7 2 2 2 4 1 9 4 9 1 0 7 5 2 2 4 4 8 0\n",
      " 0 5 3 0 9 7 8 7 3 4 7 3 7 9 3 1 5 1 0 8 3 2 9 1 2 8 4 6 1 9 1 5 8 0 9 3 6\n",
      " 1 9 8 0 8 2 4 3 1 4 1 3 2 2 9 4 2 5 8 9 1 8 6 5 9 7 5 1 1 3 1 6 5 5 0 2 2\n",
      " 2 1 8 6 2 7 4 2 2 7 6 6 7 6 6 7 2 5 5 0 4 4 0 8 1 1 9 0 6 9 9 7 2 6 4 5 5\n",
      " 3 1 2 0 5 4 7 2 0 8 7 7 3 2 7 2 8 0 9 4 0 7 3 5 9 0 3 1 1 3 4 4 6 3 4 6 0\n",
      " 6 6 1 5 2 5 7 3 2 4 9 5 0 7 2 4 2 1 4 3 8 6 3 9 2 0 6 4 5 7 8 7 3 1 2 7 5\n",
      " 7 4 2 6 6 1 1 1 4 6 8 5 7 3 5 0 9 9 3 3 2 0 5 5 9 5 3 4 3 5 9 7 3 6 3 2 9\n",
      " 7 6 8 9 0 8 5 8 8 3 0 3 7 5 2 5 1 7 4 1 5 2 5 8 1 8 0 9 9 9 4 4 3 2 0 6 8\n",
      " 1 0 9 3 2 1 7 6 5 5 8 8 4 2 6 3 0 2 5 1 9 9 3 0 8 7 9 8 1 8 3 3 4 4 6 0 5\n",
      " 2 9 8 4 8 8 6 8 9 5 4 7 1 3 8 0 0 7 1 1 0 0 4 1 1 2 1 2 0 1 7 8 3 7 2 5 2\n",
      " 9 7 1 3 5 8 0 5 7 1 9 1 6 3 7 0 9 0 9 7 6 9 9 9 6 6 8 1 8 1 9 3 4 9 8 4 4\n",
      " 7 8 0 6 7 8 0 9 8 6 0 5 2 4 2 6 1 1 8 5 4 9 9 9 6 4 5 9 9 0 9 3 2 6 7 2 2\n",
      " 8 0 0 9 2 0 8 3 3 2 1 5 1 5 8 1 0 0 1 1 6 6 3 9 3 1 9 8 9 2 7 0 8 5 8 2 7\n",
      " 1 1 6 7 0 1 6 1 2 7 2 9 3 2 9 4 1 5 2 8 1 1 6 2 9 8 2 4 1 5 8 0 0 3 8 6 3\n",
      " 1 6 8 1 1 1 5 0 4 0 6 0 0 3 8 5 1 4 7 9 8 4 5 5 9 3 4 4 7 4 8 7 4 8 5 2 3\n",
      " 1 3 4 8 8 7 4 0 3 1 3 8 3 0 1 5 6 2 8 5 1 0 0 7 6 2 4 1 5 3 2 5 1 1 9 8 6\n",
      " 2 6 1 2 1 7 1 8 9 6 0 6 6 5 1 4 8 2 3 4 5 8 5 0 2 7 5 5 7 0 0 9 1 2 8 3 8\n",
      " 0 6 1 9 2 8 6 2 8 2 1 3 2 4 7 6 3 4 4 4 8 5 2 2 4 4 1 0 0 9 4 3 7 9 0 9 4\n",
      " 9 3 8 7 7 0 6 3 7 4 8 4 4 6 2 6 8 2 9 6 7 1 3 5 1 9 5 1 3 5 4 7 9 4 0 7 9\n",
      " 9 6 0 5 8 7 0 5 9 8 2 6 6 4 7 9 9 4 5 7 4 5 8 4 2 0 4 4 8 1 1 0 1 0 8 1 5\n",
      " 0 4 2 8 8 8 3 0 4 0 3 0 2 8 2 6 3 6 6 2 6 2 5 4 7 7 3 8 5 0 1 6 6 1 1 1 1\n",
      " 2 1 0 8 1 7 7 5 1 7 3 3 6 1 7 3 4 2 7 8 1 8 9 4 2 8 3 5 6 6 0 7 5 2 9 5 3\n",
      " 6 8 6 9 1 4 4 7 6 1 8 1 3 6 1 9 1 9 6 3 9 3 4 0 2 7 8 3 7 7 7 4 8 1 0 5 6\n",
      " 7 4 5 9 1 6 7 2 0 0 9 3 2 8 9 3 1 9 0 6 3 6 5 4 4 3 2 8 7 0 4 9 2 5 5 3 4\n",
      " 1] [5 6 9 7 9 0 4 3 5 6 1 7 2 2 9 9 8 2 3 0 8 9 7 3 9 4 7 0 4 4 4 1 5 0 9 7 7\n",
      " 5 4 0 0 0 0 9 4 1 2 1 8 7 7 4 4 7 5 9 1 4 3 8 4 0 6 0 4 2 8 7 3 1 3 0 1 8\n",
      " 3 1 1 9 6 9 2 7 7 2 6 5 3 6 6 6 6 2 3 9 2 1 3 0 3 9 7 7 3 8 0 1 1 5 5 7 6\n",
      " 9 4 1 0 2 4 1 0 1 4 5 1 1 9 8 1 4 9 7 2 2 2 4 1 9 4 9 1 5 7 5 2 2 4 4 8 0\n",
      " 0 5 3 0 4 7 8 7 3 4 7 3 7 9 3 1 5 1 0 8 3 2 9 1 2 8 4 6 1 7 1 5 8 0 9 3 6\n",
      " 1 9 8 0 8 2 4 2 1 4 1 3 2 2 9 4 1 5 3 9 1 8 6 5 9 7 5 1 1 5 1 6 5 5 0 2 2\n",
      " 2 1 8 6 2 7 2 2 8 7 6 6 7 6 6 7 2 5 5 0 4 4 0 8 1 1 9 0 6 9 9 7 2 6 4 5 5\n",
      " 3 1 2 0 5 4 7 2 0 8 7 7 3 2 7 2 8 0 9 4 0 7 3 5 9 0 3 1 1 3 4 4 6 8 4 6 0\n",
      " 6 6 1 5 2 5 7 3 2 4 9 5 0 7 2 4 2 1 4 3 8 6 3 2 2 0 6 4 5 7 8 7 5 1 2 7 5\n",
      " 7 4 2 6 8 1 1 1 4 6 8 5 7 3 5 0 7 9 3 3 2 0 5 5 9 5 3 6 5 5 9 7 3 6 3 2 9\n",
      " 7 6 8 9 0 8 5 8 8 3 0 3 7 5 2 3 1 7 4 1 5 2 5 8 1 8 0 4 9 9 4 4 3 2 0 6 8\n",
      " 1 5 7 3 2 1 7 6 5 5 5 8 4 2 6 3 0 2 5 1 9 9 3 0 8 7 9 8 1 4 3 3 4 4 5 0 5\n",
      " 2 9 8 4 8 8 6 8 9 5 4 7 1 3 8 0 2 7 1 1 0 0 4 1 1 2 1 2 0 1 7 8 3 7 2 5 2\n",
      " 9 7 1 3 5 3 0 3 7 1 9 1 6 3 7 0 9 0 9 7 6 9 9 9 6 6 8 1 8 1 9 3 4 9 2 7 4\n",
      " 7 8 0 6 7 8 0 4 6 6 0 5 2 4 2 5 1 1 8 5 5 2 4 7 6 4 5 9 9 0 7 3 2 4 9 3 2\n",
      " 8 0 0 9 2 0 8 3 3 2 1 5 1 5 0 1 0 0 1 1 6 6 5 9 3 1 9 8 9 2 7 0 8 5 8 2 7\n",
      " 1 1 6 7 0 4 6 1 2 7 2 9 3 4 9 4 1 5 2 8 1 1 6 7 9 6 2 9 1 3 8 0 0 3 8 6 5\n",
      " 1 6 8 1 1 1 5 0 4 0 6 0 0 3 8 5 1 4 7 9 8 4 3 3 9 3 6 4 7 4 8 7 9 8 8 2 3\n",
      " 1 5 4 5 8 7 4 0 3 1 3 8 3 0 1 5 6 2 8 5 1 0 0 7 6 2 4 1 5 3 8 5 1 1 9 8 6\n",
      " 2 6 1 2 1 7 1 8 9 6 0 6 6 5 1 4 8 2 3 4 7 8 5 0 2 7 5 5 7 0 0 9 1 2 8 3 8\n",
      " 0 0 8 9 2 4 6 2 8 2 1 2 2 4 7 6 3 4 4 4 5 5 2 2 4 4 1 0 0 9 4 3 7 9 0 9 4\n",
      " 9 3 8 7 2 0 6 3 7 4 1 4 4 6 2 6 8 2 7 6 7 1 2 5 1 9 5 8 3 5 4 7 4 4 5 7 7\n",
      " 9 6 0 8 8 7 0 5 9 8 2 6 8 4 2 4 9 4 5 7 4 5 8 4 2 0 5 4 8 1 1 0 1 5 8 1 5\n",
      " 0 4 2 8 2 8 3 9 4 0 3 0 2 8 3 6 3 6 6 2 6 2 3 4 9 7 3 8 5 0 1 6 6 1 1 1 1\n",
      " 2 1 0 8 1 7 7 5 1 7 3 3 6 1 7 3 4 2 7 8 1 8 9 4 2 8 3 5 6 3 0 7 5 2 9 5 3\n",
      " 6 8 6 9 1 4 4 7 6 1 8 1 3 6 1 9 1 9 6 3 9 3 4 0 2 7 8 3 7 9 7 4 8 1 5 5 6\n",
      " 7 4 5 9 1 6 7 2 0 0 9 3 2 8 9 3 1 7 0 6 3 6 5 4 4 3 2 8 7 0 4 9 2 5 5 3 4\n",
      " 1]\n"
     ]
    },
    {
     "data": {
      "text/plain": [
       "0.907"
      ]
     },
     "execution_count": 17,
     "metadata": {},
     "output_type": "execute_result"
    }
   ],
   "source": [
    "dev_predictions = make_predictions(X_dev, W1, b1, W2, b2)\n",
    "get_accuracy(dev_predictions, Y_dev)"
   ]
  },
  {
   "cell_type": "code",
   "execution_count": 19,
   "metadata": {
    "execution": {
     "iopub.execute_input": "2024-06-21T15:47:58.003494Z",
     "iopub.status.busy": "2024-06-21T15:47:58.003105Z",
     "iopub.status.idle": "2024-06-21T15:47:58.771921Z",
     "shell.execute_reply": "2024-06-21T15:47:58.770826Z",
     "shell.execute_reply.started": "2024-06-21T15:47:58.003461Z"
    },
    "trusted": true
   },
   "outputs": [
    {
     "name": "stdout",
     "output_type": "stream",
     "text": [
      "Prediction:  [2]\n",
      "Label:  1\n"
     ]
    },
    {
     "data": {
      "image/png": "[encoded data removed]",
      "text/plain": [
       "<Figure size 432x288 with 1 Axes>"
      ]
     },
     "metadata": {
      "needs_background": "light"
     },
     "output_type": "display_data"
    },
    {
     "name": "stdout",
     "output_type": "stream",
     "text": [
      "Prediction:  [7]\n",
      "Label:  2\n"
     ]
    },
    {
     "data": {
      "image/png": "[encoded data removed]",
      "text/plain": [
       "<Figure size 432x288 with 1 Axes>"
      ]
     },
     "metadata": {
      "needs_background": "light"
     },
     "output_type": "display_data"
    },
    {
     "name": "stdout",
     "output_type": "stream",
     "text": [
      "Prediction:  [5]\n",
      "Label:  3\n"
     ]
    },
    {
     "data": {
      "image/png": "[encoded data removed]",
      "text/plain": [
       "<Figure size 432x288 with 1 Axes>"
      ]
     },
     "metadata": {
      "needs_background": "light"
     },
     "output_type": "display_data"
    },
    {
     "name": "stdout",
     "output_type": "stream",
     "text": [
      "Prediction:  [0]\n",
      "Label:  8\n"
     ]
    },
    {
     "data": {
      "image/png": "[encoded data removed]",
      "text/plain": [
       "<Figure size 432x288 with 1 Axes>"
      ]
     },
     "metadata": {
      "needs_background": "light"
     },
     "output_type": "display_data"
    }
   ],
   "source": [
    "test_prediction(66, W1, b1, W2, b2)\n",
    "test_prediction(1, W1, b1, W2, b2)\n",
    "test_prediction(2, W1, b1, W2, b2)\n",
    "test_prediction(3, W1, b1, W2, b2)"
   ]
  },
  {
   "cell_type": "markdown",
   "metadata": {},
   "source": [
    "Finally, let's find the accuracy on the dev set:"
   ]
  },
  {
   "cell_type": "markdown",
   "metadata": {},
   "source": [
    "Still 84% accuracy, so our model generalized from the training data pretty well."
   ]
  }
 ],
 "metadata": {
  "kaggle": {
   "accelerator": "none",
   "dataSources": [
    {
     "databundleVersionId": 861823,
     "sourceId": 3004,
     "sourceType": "competition"
    }
   ],
   "dockerImageVersionId": 30035,
   "isGpuEnabled": false,
   "isInternetEnabled": false,
   "language": "python",
   "sourceType": "notebook"
  },
  "kernelspec": {
   "display_name": "Python 3",
   "language": "python",
   "name": "python3"
  },
  "language_info": {
   "codemirror_mode": {
    "name": "ipython",
    "version": 3
   },
   "file_extension": ".py",
   "mimetype": "text/x-python",
   "name": "python",
   "nbconvert_exporter": "python",
   "pygments_lexer": "ipython3",
   "version": "3.6.9"
  }
 },
 "nbformat": 4,
 "nbformat_minor": 4
}
